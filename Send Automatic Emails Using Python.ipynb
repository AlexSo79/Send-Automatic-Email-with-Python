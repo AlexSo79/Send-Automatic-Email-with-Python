{
 "cells": [
  {
   "cell_type": "code",
   "execution_count": 1,
   "id": "7e541667",
   "metadata": {},
   "outputs": [
    {
     "name": "stdout",
     "output_type": "stream",
     "text": [
      "Enter name >>: Alessandro\n",
      "Enter email >>: alessandro.sollai1@gmail.com\n",
      "Email Sent!\n"
     ]
    }
   ],
   "source": [
    "import os\n",
    "import random\n",
    "import smtplib\n",
    "\n",
    "def automatic_email():\n",
    "    user = input(\"Enter name >>: \")\n",
    "    email = input(\"Enter email >>: \")\n",
    "    message = (f\"Dear {user}, welcome to python automatic email\")\n",
    "    s = smtplib.SMTP('smtp.gmail.com',587)\n",
    "    s.starttls()\n",
    "    s.login([\"sender email address\"],[\"generate app password\"])\n",
    "    s.sendmail('&&&&&&&&&&&',email,message)\n",
    "    print(\"Email Sent!\")\n",
    "automatic_email()"
   ]
  },
  {
   "cell_type": "code",
   "execution_count": null,
   "id": "18e61cf8",
   "metadata": {},
   "outputs": [],
   "source": []
  }
 ],
 "metadata": {
  "kernelspec": {
   "display_name": "Python 3 (ipykernel)",
   "language": "python",
   "name": "python3"
  },
  "language_info": {
   "codemirror_mode": {
    "name": "ipython",
    "version": 3
   },
   "file_extension": ".py",
   "mimetype": "text/x-python",
   "name": "python",
   "nbconvert_exporter": "python",
   "pygments_lexer": "ipython3",
   "version": "3.10.9"
  }
 },
 "nbformat": 4,
 "nbformat_minor": 5
}
